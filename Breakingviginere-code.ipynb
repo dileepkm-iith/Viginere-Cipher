{
 "cells": [
  {
   "cell_type": "code",
   "execution_count": 1,
   "metadata": {},
   "outputs": [
    {
     "name": "stdout",
     "output_type": "stream",
     "text": [
      "enterYVRWXRVMEEGFDXGFZYWTXZLVLQCCBGNPPTLQCTTWVFADGUKGINVVGCWKRGCMQRQDOGICXZPJMRBCCGHMUVAJECIBTFQTPPMKTPTIWSJXVCEBIHUVAJKGKMPENZRHVKKGOXPJHJLVZATLQTGPEGTMCHOZAPGFGMABVZAPENZZTKVPMUMJFSVAVVVEKGJQXHPSCABGWDPBVYYCWYFPHAKGCFNCCGIRQWQITVLQPGFFDDIRFPINPZRNTPURDITFKDMGRKDGIKFTFCCJUKCKCGGKKWPLULPXGIKFTWKXLXMAFDIAGZLSBXZBJTNRLSMJVSCBVPYCWKERTZTZRNHHKFTGCKGDGKEMJKEFLHMKKSTGVRQHXOSJNMJZQIPGERNLKORWWCPMUGQMCBUGILXGGKCTGHFPIRPZLTWQYCGXDPYSHRKCCTEKYCWIZTTMQFSGLGCTTLVYGHVQEQIBVLRXHP\n"
     ]
    }
   ],
   "source": [
    "cipher =input(\"enter\")"
   ]
  },
  {
   "cell_type": "code",
   "execution_count": 2,
   "metadata": {
    "collapsed": true
   },
   "outputs": [],
   "source": [
    "cipher=cipher.replace(\" \",\"\").lower()"
   ]
  },
  {
   "cell_type": "code",
   "execution_count": 3,
   "metadata": {},
   "outputs": [
    {
     "name": "stdout",
     "output_type": "stream",
     "text": [
      "yvrwxrvmeegfdxgfzywtxzlvlqccbgnpptlqcttwvfadgukginvvgcwkrgcmqrqdogicxzpjmrbccghmuvajecibtfqtppmktptiwsjxvcebihuvajkgkmpenzrhvkkgoxpjhjlvzatlqtgpegtmchozapgfgmabvzapenzztkvpmumjfsvavvvekgjqxhpscabgwdpbvyycwyfphakgcfnccgirqwqitvlqpgffddirfpinpzrntpurditfkdmgrkdgikftfccjukckcggkkwplulpxgikftwkxlxmafdiagzlsbxzbjtnrlsmjvscbvpycwkertztzrnhhkftgckgdgkemjkeflhmkkstgvrqhxosjnmjzqipgernlkorwwcpmugqmcbugilxggkctghfpirpzltwqycgxdpyshrkcctekycwizttmqfsglgcttlvyghvqeqibvlrxhp\n"
     ]
    }
   ],
   "source": [
    "print(cipher)"
   ]
  },
  {
   "cell_type": "code",
   "execution_count": 5,
   "metadata": {
    "collapsed": true
   },
   "outputs": [],
   "source": [
    "alphabet = \"abcdefghijklmnopqrstuvwxyz\"\n"
   ]
  },
  {
   "cell_type": "code",
   "execution_count": 7,
   "metadata": {},
   "outputs": [
    {
     "name": "stdout",
     "output_type": "stream",
     "text": [
      "0.044490898327660205\n",
      "0.04302650754263657\n",
      "0.04310472968643884\n",
      "0.06678801985417723\n",
      "0.04321263531789848\n",
      "0.04292622800085487\n",
      "0.04236134608877542\n",
      "0.04247695659460365\n",
      "0.07000925069380202\n",
      "0.04482717131611063\n",
      "0.04083233030601452\n",
      "0.04055160525748761\n",
      "0.041913356251591545\n",
      "0.06526881720430107\n",
      "0.0398706896551724\n",
      "0.04178936531877708\n",
      "0.043148148148148144\n",
      "0.04322654462242564\n"
     ]
    }
   ],
   "source": [
    "for i in range(2,20):\n",
    "    sum=0\n",
    "    \n",
    "    for j in range(0, i):\n",
    "        var= cipher[j:len(cipher):i]\n",
    "        \n",
    "        freq_dict = { letter : 0 for letter in alphabet }\n",
    "        for letter in var:\n",
    "            freq_dict[letter] += 1\n",
    "        sum1=0\n",
    "        for letter in alphabet:\n",
    "            sum1+=(freq_dict[letter]*(freq_dict[letter]-1))\n",
    "        num1=(len(var)*(len(var)-1))\n",
    "        \n",
    "        sum+=(sum1/num1)\n",
    "    print(sum/(j+1))\n",
    "\n",
    "            \n",
    "        \n",
    "            \n",
    "        \n",
    "    \n",
    "    \n",
    "    \n",
    "    \n",
    "    "
   ]
  },
  {
   "cell_type": "code",
   "execution_count": 43,
   "metadata": {},
   "outputs": [
    {
     "name": "stdout",
     "output_type": "stream",
     "text": [
      "['yrgfxqnqvuvkqgpcucqkwcugnkpvqgofvnvjvgpgvykcqvfrpptgicckuikagxnjvkthckekvojgkcqgghpqdreiqgvqvp', 'vvfzzcpcfkvrrijcvittsevkzkjzttzgzzpfvjswyfgcwlffzufrkckklkxfzzrvpezkkefkrszeopmikfzypkkzfcyel', 'rmdylcptagggqcmgabppjbamrghagmamazmsvqcdypcgqqdprrkkfjcwpfldlblsyrrfgmlsqjqrrmclcplcycytstgqr', 'wexwvbttdiccdxrhjtptxijphojtpcpaptuvexapchfiipdindddtugpxtxisjscctntdjhthninwubxtitgscctgthix', 'xegtlglwgnwmozbmefmivhkevxllehgbekmakhbbwanrtgintimgfkglgwmabtmbwzhggkmgxmplwguggrwxhtwmllvbh']\n"
     ]
    }
   ],
   "source": [
    "var3=[]\n",
    "for i in range(0,5):\n",
    "    var3.append(cipher[i:len(cipher):5])\n",
    "print(var3)\n"
   ]
  },
  {
   "cell_type": "code",
   "execution_count": 41,
   "metadata": {},
   "outputs": [
    {
     "name": "stdout",
     "output_type": "stream",
     "text": [
      "14.64604906612991 2\n",
      "43.436852454817895 17\n",
      "34.65649963414037 24\n",
      "39.044235200023024 15\n",
      "27.661316052278252 19\n",
      "[2, 17, 24, 15, 19]\n",
      "wethepeopleofindiahavingsolemnlyresolvedtoconstituteindiaintoasovereignsocialistseculardemocraticrepublicandtosecuretoallitscitizensjusticesocialeconomicandpoliticallibertyofthoughtexpressionbelieffaithandworshipequalityofstatusandofopportunityandtopromoteamongthemallfraternityassuringthedignityoftheindividualandtheunityandintegrityofthenationinourconstituentassemblythistwentysixthdayofnovembernineteenfortyninedoherebyadoptenactandgivetoourselvesthisconstitution\n"
     ]
    }
   ],
   "source": [
    "e_frq= [\n",
    "        0.08167, 0.01492, 0.02782, 0.04253, 0.12702, 0.02228, 0.02015,\n",
    "        0.06094, 0.06966, 0.00153, 0.00772, 0.04025, 0.02406, 0.06749,\n",
    "        0.07507, 0.01929, 0.00095, 0.05987, 0.06327, 0.09056, 0.02758,\n",
    "        0.00978, 0.02360, 0.00150, 0.01974, 0.00074]\n",
    "\n",
    "#here\n",
    "#var=\"aoljhlzhyjpwolypzvulvmaollhysplzaruvduhukzptwslzajpwolyzpapzhafwlvmzbizapabapvujpwolypudopjolhjoslaalypuaolwshpualeapzzopmalkhjlyahpuubtilyvmwshjlzkvduaolhswohila\"\n",
    "key=[]\n",
    "for everysub in var3:\n",
    "    var=everysub\n",
    "    for eachletter in alphabet:\n",
    "        var2=\"\"\n",
    "\n",
    "        for letter in var:\n",
    "            i=(alphabet.index(letter) - (ord(eachletter)-97)) % 26\n",
    "            var2+=alphabet[i]\n",
    "\n",
    "        freq_dict = { letter : 0 for letter in alphabet }\n",
    "        for letter in var2:\n",
    "            freq_dict[letter] += 1\n",
    "        expct_count={}\n",
    "        chi_sqr=0    \n",
    "        for letter in alphabet:\n",
    "\n",
    "            expct_count[ord(letter)-97]=e_frq[ord(letter)-97]*len(var) \n",
    "            chi_sqr+=(((freq_dict[letter]-expct_count[ord(letter)-97])**2)/expct_count[ord(letter)-97])\n",
    "        if(ord(eachletter)==97):\n",
    "            index=0;\n",
    "            min=chi_sqr\n",
    "        else:\n",
    "            if chi_sqr<min:\n",
    "                min=chi_sqr\n",
    "                index=(ord(eachletter)-97)\n",
    "\n",
    "    print(min,index)\n",
    "    key.append(index)\n",
    "print(key)\n",
    "\n",
    "count=0\n",
    "encry=\"\"\n",
    "for each in cipher:\n",
    "    i=count%len(key)\n",
    "    count=count+1\n",
    "    j=(alphabet.index(each) - key[i]) % 26\n",
    "    encry+=alphabet[j]\n",
    "print(encry)\n",
    "    \n",
    "    \n",
    "\n",
    "\n",
    "    \n",
    "        \n",
    "        "
   ]
  },
  {
   "cell_type": "code",
   "execution_count": null,
   "metadata": {
    "collapsed": true
   },
   "outputs": [],
   "source": []
  }
 ],
 "metadata": {
  "kernelspec": {
   "display_name": "Python 3",
   "language": "python",
   "name": "python3"
  },
  "language_info": {
   "codemirror_mode": {
    "name": "ipython",
    "version": 3
   },
   "file_extension": ".py",
   "mimetype": "text/x-python",
   "name": "python",
   "nbconvert_exporter": "python",
   "pygments_lexer": "ipython3",
   "version": "3.6.3"
  }
 },
 "nbformat": 4,
 "nbformat_minor": 2
}
