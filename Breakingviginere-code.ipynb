{
 "cells": [
  {
   "cell_type": "markdown",
   "metadata": {},
   "source": [
    "# GIVE INPUT CIPHER TEXT"
   ]
  },
  {
   "cell_type": "code",
   "execution_count": 2,
   "metadata": {},
   "outputs": [
    {
     "name": "stdout",
     "output_type": "stream",
     "text": [
      "enterYVRWXRVMEEGFDXGFZYWTXZLVLQCCBGNPPTLQCTTWVFADGUKGINVVGCWKRGCMQRQDOGICXZPJMRBCCGHMUVAJECIBTFQTPPMKTPTIWSJXVCEBIHUVAJKGKMPENZRHVKKGOXPJHJLVZATLQTGPEGTMCHOZAPGFGMABVZAPENZZTKVPMUMJFSVAVVVEKGJQXHPSCABGWDPBVYYCWYFPHAKGCFNCCGIRQWQITVLQPGFFDDIRFPINPZRNTPURDITFKDMGRKDGIKFTFCCJUKCKCGGKKWPLULPXGIKFTWKXLXMAFDIAGZLSBXZBJTNRLSMJVSCBVPYCWKERTZTZRNHHKFTGCKGDGKEMJKEFLHMKKSTGVRQHXOSJNMJZQIPGERNLKORWWCPMUGQMCBUGILXGGKCTGHFPIRPZLTWQYCGXDPYSHRKCCTEKYCWIZTTMQFSGLGCTTLVYGHVQEQIBVLRXHP\n"
     ]
    }
   ],
   "source": [
    "cipher =input(\"enter\")"
   ]
  },
  {
   "cell_type": "markdown",
   "metadata": {},
   "source": [
    "# FINDING KEY LENGTH"
   ]
  },
  {
   "cell_type": "code",
   "execution_count": 19,
   "metadata": {},
   "outputs": [
    {
     "name": "stdout",
     "output_type": "stream",
     "text": [
      "length  2 I.C:  0.044490898327660205\n",
      "length  3 I.C:  0.04302650754263657\n",
      "length  4 I.C:  0.04310472968643884\n",
      "length  5 I.C:  0.06678801985417723\n",
      "LENGTH OF THE KEY IS  5\n"
     ]
    }
   ],
   "source": [
    "cipher=cipher.replace(\" \",\"\").lower()\n",
    "alphabet = \"abcdefghijklmnopqrstuvwxyz\"\n",
    "for i in range(2,20):\n",
    "    sum=0\n",
    "    \n",
    "    for j in range(0, i):\n",
    "        var= cipher[j:len(cipher):i]\n",
    "        \n",
    "        freq_dict = { letter : 0 for letter in alphabet }\n",
    "        for letter in var:\n",
    "            freq_dict[letter] += 1\n",
    "        sum1=0\n",
    "        for letter in alphabet:\n",
    "            sum1+=(freq_dict[letter]*(freq_dict[letter]-1))\n",
    "        num1=(len(var)*(len(var)-1))\n",
    "        \n",
    "        sum+=(sum1/num1)\n",
    "    \n",
    "    print(\"length \",i, \"I.C: \",sum/(j+1))\n",
    "    if(sum/(j+1)>=0.06):\n",
    "        length=i\n",
    "        print(\"LENGTH OF THE KEY IS \",length)\n",
    "        break "
   ]
  },
  {
   "cell_type": "markdown",
   "metadata": {},
   "source": [
    "# FINDING KEY"
   ]
  },
  {
   "cell_type": "code",
   "execution_count": 20,
   "metadata": {},
   "outputs": [
    {
     "name": "stdout",
     "output_type": "stream",
     "text": [
      "min chi-square value  14.64604906612991 key in that position is c\n",
      "min chi-square value  43.436852454817895 key in that position is r\n",
      "min chi-square value  34.65649963414037 key in that position is y\n",
      "min chi-square value  39.044235200023024 key in that position is p\n",
      "min chi-square value  27.661316052278252 key in that position is t\n",
      "KEY IS : crypt\n"
     ]
    }
   ],
   "source": [
    "var3=[]\n",
    "for i in range(0,length):\n",
    "    var3.append(cipher[i:len(cipher):5])\n",
    "\n",
    "e_frq= [\n",
    "        0.08167, 0.01492, 0.02782, 0.04253, 0.12702, 0.02228, 0.02015,\n",
    "        0.06094, 0.06966, 0.00153, 0.00772, 0.04025, 0.02406, 0.06749,\n",
    "        0.07507, 0.01929, 0.00095, 0.05987, 0.06327, 0.09056, 0.02758,\n",
    "        0.00978, 0.02360, 0.00150, 0.01974, 0.00074]\n",
    "\n",
    "key=[]\n",
    "Keyvalue=\"\"\n",
    "for everysub in var3:\n",
    "    var=everysub\n",
    "    for eachletter in alphabet:\n",
    "        var2=\"\"\n",
    "\n",
    "        for letter in var:\n",
    "            i=(alphabet.index(letter) - (ord(eachletter)-97)) % 26\n",
    "            var2+=alphabet[i]\n",
    "\n",
    "        freq_dict = { letter : 0 for letter in alphabet }\n",
    "        for letter in var2:\n",
    "            freq_dict[letter] += 1\n",
    "        expct_count={}\n",
    "        chi_sqr=0    \n",
    "        for letter in alphabet:\n",
    "\n",
    "            expct_count[ord(letter)-97]=e_frq[ord(letter)-97]*len(var) \n",
    "            chi_sqr+=(((freq_dict[letter]-expct_count[ord(letter)-97])**2)/expct_count[ord(letter)-97])\n",
    "        if(ord(eachletter)==97):\n",
    "            index=0;\n",
    "            min=chi_sqr\n",
    "        else:\n",
    "            if chi_sqr<min:\n",
    "                min=chi_sqr\n",
    "                index=(ord(eachletter)-97)\n",
    "\n",
    "    print(\"min chi-square value \",min,\"key in that position is \"+chr(index+97))\n",
    "    key.append(index)\n",
    "    Keyvalue+=chr(index+97)\n",
    "print(\"KEY IS :\",Keyvalue)\n"
   ]
  },
  {
   "cell_type": "markdown",
   "metadata": {},
   "source": [
    "# FINDING PLAIN TEXT"
   ]
  },
  {
   "cell_type": "code",
   "execution_count": 16,
   "metadata": {},
   "outputs": [
    {
     "name": "stdout",
     "output_type": "stream",
     "text": [
      "wethepeopleofindiahavingsolemnlyresolvedtoconstituteindiaintoasovereignsocialistseculardemocraticrepublicandtosecuretoallitscitizensjusticesocialeconomicandpoliticallibertyofthoughtexpressionbelieffaithandworshipequalityofstatusandofopportunityandtopromoteamongthemallfraternityassuringthedignityoftheindividualandtheunityandintegrityofthenationinourconstituentassemblythistwentysixthdayofnovembernineteenfortyninedoherebyadoptenactandgivetoourselvesthisconstitution\n"
     ]
    }
   ],
   "source": [
    "count=0\n",
    "encry=\"\"\n",
    "for each in cipher:\n",
    "    i=count%len(key)\n",
    "    count=count+1\n",
    "    j=(alphabet.index(each) - key[i]) % 26\n",
    "    encry+=alphabet[j]\n",
    "print(encry)\n",
    "    \n",
    "    \n",
    "\n",
    "\n",
    "    \n",
    "        \n",
    "        "
   ]
  }
 ],
 "metadata": {
  "kernelspec": {
   "display_name": "Python 3",
   "language": "python",
   "name": "python3"
  },
  "language_info": {
   "codemirror_mode": {
    "name": "ipython",
    "version": 3
   },
   "file_extension": ".py",
   "mimetype": "text/x-python",
   "name": "python",
   "nbconvert_exporter": "python",
   "pygments_lexer": "ipython3",
   "version": "3.6.3"
  }
 },
 "nbformat": 4,
 "nbformat_minor": 2
}
